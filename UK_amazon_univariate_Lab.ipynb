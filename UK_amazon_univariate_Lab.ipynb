{
 "cells": [
  {
   "cell_type": "markdown",
   "id": "8a9d000b-c051-4f51-a191-2d7ce8c14197",
   "metadata": {},
   "source": [
    "# Lab - EDA Univariate Analysis: Diving into Amazon UK Product Insights"
   ]
  },
  {
   "cell_type": "code",
   "execution_count": 1,
   "id": "5937eb76-49a5-462b-bc5a-954d05f8c691",
   "metadata": {},
   "outputs": [],
   "source": [
    "#Main libraries\n",
    "import pandas as pd\n",
    "import matplotlib.pyplot as plt \n",
    "import seaborn as sns\n",
    "import numpy as np\n",
    "%matplotlib inline "
   ]
  },
  {
   "cell_type": "code",
   "execution_count": 3,
   "id": "aa73926f-8e76-4bf5-8b24-ffcf10ca4824",
   "metadata": {},
   "outputs": [],
   "source": [
    "df = pd.read_csv(r\"C:\\Users\\HP\\Desktop\\Ironhack\\Labs\\lab-eda-univariate\\amz_uk_price_prediction_dataset.csv\")"
   ]
  },
  {
   "cell_type": "markdown",
   "id": "f7d20474-9c8e-42a1-946d-16dcce2e4484",
   "metadata": {},
   "source": [
    "### Part 1: Understanding Product Categories"
   ]
  },
  {
   "cell_type": "code",
   "execution_count": 6,
   "id": "c2aba0d3-8260-4dfc-b9e0-bbc6fdc60f79",
   "metadata": {},
   "outputs": [
    {
     "data": {
      "text/plain": [
       "(2443651, 9)"
      ]
     },
     "execution_count": 6,
     "metadata": {},
     "output_type": "execute_result"
    }
   ],
   "source": [
    "df.shape"
   ]
  },
  {
   "cell_type": "code",
   "execution_count": 6,
   "id": "5b9fc6bc-249c-493c-84f2-0481c1fda422",
   "metadata": {},
   "outputs": [
    {
     "data": {
      "text/html": [
       "<div>\n",
       "<style scoped>\n",
       "    .dataframe tbody tr th:only-of-type {\n",
       "        vertical-align: middle;\n",
       "    }\n",
       "\n",
       "    .dataframe tbody tr th {\n",
       "        vertical-align: top;\n",
       "    }\n",
       "\n",
       "    .dataframe thead th {\n",
       "        text-align: right;\n",
       "    }\n",
       "</style>\n",
       "<table border=\"1\" class=\"dataframe\">\n",
       "  <thead>\n",
       "    <tr style=\"text-align: right;\">\n",
       "      <th></th>\n",
       "      <th>uid</th>\n",
       "      <th>asin</th>\n",
       "      <th>title</th>\n",
       "      <th>stars</th>\n",
       "      <th>reviews</th>\n",
       "      <th>price</th>\n",
       "      <th>isBestSeller</th>\n",
       "      <th>boughtInLastMonth</th>\n",
       "      <th>category</th>\n",
       "    </tr>\n",
       "  </thead>\n",
       "  <tbody>\n",
       "    <tr>\n",
       "      <th>0</th>\n",
       "      <td>1</td>\n",
       "      <td>B09B96TG33</td>\n",
       "      <td>Echo Dot (5th generation, 2022 release) | Big ...</td>\n",
       "      <td>4.7</td>\n",
       "      <td>15308</td>\n",
       "      <td>21.99</td>\n",
       "      <td>False</td>\n",
       "      <td>0</td>\n",
       "      <td>Hi-Fi Speakers</td>\n",
       "    </tr>\n",
       "    <tr>\n",
       "      <th>1</th>\n",
       "      <td>2</td>\n",
       "      <td>B01HTH3C8S</td>\n",
       "      <td>Anker Soundcore mini, Super-Portable Bluetooth...</td>\n",
       "      <td>4.7</td>\n",
       "      <td>98099</td>\n",
       "      <td>23.99</td>\n",
       "      <td>True</td>\n",
       "      <td>0</td>\n",
       "      <td>Hi-Fi Speakers</td>\n",
       "    </tr>\n",
       "    <tr>\n",
       "      <th>2</th>\n",
       "      <td>3</td>\n",
       "      <td>B09B8YWXDF</td>\n",
       "      <td>Echo Dot (5th generation, 2022 release) | Big ...</td>\n",
       "      <td>4.7</td>\n",
       "      <td>15308</td>\n",
       "      <td>21.99</td>\n",
       "      <td>False</td>\n",
       "      <td>0</td>\n",
       "      <td>Hi-Fi Speakers</td>\n",
       "    </tr>\n",
       "    <tr>\n",
       "      <th>3</th>\n",
       "      <td>4</td>\n",
       "      <td>B09B8T5VGV</td>\n",
       "      <td>Echo Dot with clock (5th generation, 2022 rele...</td>\n",
       "      <td>4.7</td>\n",
       "      <td>7205</td>\n",
       "      <td>31.99</td>\n",
       "      <td>False</td>\n",
       "      <td>0</td>\n",
       "      <td>Hi-Fi Speakers</td>\n",
       "    </tr>\n",
       "    <tr>\n",
       "      <th>4</th>\n",
       "      <td>5</td>\n",
       "      <td>B09WX6QD65</td>\n",
       "      <td>Introducing Echo Pop | Full sound compact Wi-F...</td>\n",
       "      <td>4.6</td>\n",
       "      <td>1881</td>\n",
       "      <td>17.99</td>\n",
       "      <td>False</td>\n",
       "      <td>0</td>\n",
       "      <td>Hi-Fi Speakers</td>\n",
       "    </tr>\n",
       "  </tbody>\n",
       "</table>\n",
       "</div>"
      ],
      "text/plain": [
       "   uid        asin                                              title  stars  \\\n",
       "0    1  B09B96TG33  Echo Dot (5th generation, 2022 release) | Big ...    4.7   \n",
       "1    2  B01HTH3C8S  Anker Soundcore mini, Super-Portable Bluetooth...    4.7   \n",
       "2    3  B09B8YWXDF  Echo Dot (5th generation, 2022 release) | Big ...    4.7   \n",
       "3    4  B09B8T5VGV  Echo Dot with clock (5th generation, 2022 rele...    4.7   \n",
       "4    5  B09WX6QD65  Introducing Echo Pop | Full sound compact Wi-F...    4.6   \n",
       "\n",
       "   reviews  price  isBestSeller  boughtInLastMonth        category  \n",
       "0    15308  21.99         False                  0  Hi-Fi Speakers  \n",
       "1    98099  23.99          True                  0  Hi-Fi Speakers  \n",
       "2    15308  21.99         False                  0  Hi-Fi Speakers  \n",
       "3     7205  31.99         False                  0  Hi-Fi Speakers  \n",
       "4     1881  17.99         False                  0  Hi-Fi Speakers  "
      ]
     },
     "execution_count": 6,
     "metadata": {},
     "output_type": "execute_result"
    }
   ],
   "source": [
    "df.head(5)"
   ]
  },
  {
   "cell_type": "code",
   "execution_count": 7,
   "id": "4f939e99-d86d-4ffe-bac5-690a4188e90b",
   "metadata": {},
   "outputs": [],
   "source": [
    "frequency_table_category = df.category.value_counts()"
   ]
  },
  {
   "cell_type": "code",
   "execution_count": 8,
   "id": "af8a10fa-0ebb-45bb-a8b3-1f8cbdb03171",
   "metadata": {},
   "outputs": [],
   "source": [
    "proportion_table_category = df.category.value_counts(normalize=True)"
   ]
  },
  {
   "cell_type": "code",
   "execution_count": 9,
   "id": "dfd3e008-2012-4ce6-a08f-b7933b0d2259",
   "metadata": {},
   "outputs": [
    {
     "data": {
      "text/html": [
       "<div>\n",
       "<style scoped>\n",
       "    .dataframe tbody tr th:only-of-type {\n",
       "        vertical-align: middle;\n",
       "    }\n",
       "\n",
       "    .dataframe tbody tr th {\n",
       "        vertical-align: top;\n",
       "    }\n",
       "\n",
       "    .dataframe thead th {\n",
       "        text-align: right;\n",
       "    }\n",
       "</style>\n",
       "<table border=\"1\" class=\"dataframe\">\n",
       "  <thead>\n",
       "    <tr style=\"text-align: right;\">\n",
       "      <th></th>\n",
       "      <th>count</th>\n",
       "      <th>proportion</th>\n",
       "    </tr>\n",
       "    <tr>\n",
       "      <th>category</th>\n",
       "      <th></th>\n",
       "      <th></th>\n",
       "    </tr>\n",
       "  </thead>\n",
       "  <tbody>\n",
       "    <tr>\n",
       "      <th>Sports &amp; Outdoors</th>\n",
       "      <td>836265</td>\n",
       "      <td>0.342219</td>\n",
       "    </tr>\n",
       "    <tr>\n",
       "      <th>Beauty</th>\n",
       "      <td>19312</td>\n",
       "      <td>0.007903</td>\n",
       "    </tr>\n",
       "    <tr>\n",
       "      <th>Handmade Clothing, Shoes &amp; Accessories</th>\n",
       "      <td>19229</td>\n",
       "      <td>0.007869</td>\n",
       "    </tr>\n",
       "    <tr>\n",
       "      <th>Bath &amp; Body</th>\n",
       "      <td>19092</td>\n",
       "      <td>0.007813</td>\n",
       "    </tr>\n",
       "    <tr>\n",
       "      <th>Birthday Gifts</th>\n",
       "      <td>18978</td>\n",
       "      <td>0.007766</td>\n",
       "    </tr>\n",
       "    <tr>\n",
       "      <th>...</th>\n",
       "      <td>...</td>\n",
       "      <td>...</td>\n",
       "    </tr>\n",
       "    <tr>\n",
       "      <th>Alexa Built-In Devices</th>\n",
       "      <td>107</td>\n",
       "      <td>0.000044</td>\n",
       "    </tr>\n",
       "    <tr>\n",
       "      <th>Motorbike Chassis</th>\n",
       "      <td>107</td>\n",
       "      <td>0.000044</td>\n",
       "    </tr>\n",
       "    <tr>\n",
       "      <th>Plugs</th>\n",
       "      <td>107</td>\n",
       "      <td>0.000044</td>\n",
       "    </tr>\n",
       "    <tr>\n",
       "      <th>Smart Home Security &amp; Lighting</th>\n",
       "      <td>104</td>\n",
       "      <td>0.000043</td>\n",
       "    </tr>\n",
       "    <tr>\n",
       "      <th>Smart Speakers</th>\n",
       "      <td>54</td>\n",
       "      <td>0.000022</td>\n",
       "    </tr>\n",
       "  </tbody>\n",
       "</table>\n",
       "<p>296 rows × 2 columns</p>\n",
       "</div>"
      ],
      "text/plain": [
       "                                         count  proportion\n",
       "category                                                  \n",
       "Sports & Outdoors                       836265    0.342219\n",
       "Beauty                                   19312    0.007903\n",
       "Handmade Clothing, Shoes & Accessories   19229    0.007869\n",
       "Bath & Body                              19092    0.007813\n",
       "Birthday Gifts                           18978    0.007766\n",
       "...                                        ...         ...\n",
       "Alexa Built-In Devices                     107    0.000044\n",
       "Motorbike Chassis                          107    0.000044\n",
       "Plugs                                      107    0.000044\n",
       "Smart Home Security & Lighting             104    0.000043\n",
       "Smart Speakers                              54    0.000022\n",
       "\n",
       "[296 rows x 2 columns]"
      ]
     },
     "execution_count": 9,
     "metadata": {},
     "output_type": "execute_result"
    }
   ],
   "source": [
    "final_table = pd.concat([frequency_table_category, proportion_table_category], axis=1)\n",
    "final_table = final_table.sort_values(by=\"count\", ascending= False)\n",
    "final_table"
   ]
  },
  {
   "cell_type": "code",
   "execution_count": 10,
   "id": "2de0e1b1-4d67-48d5-8940-b3320050f4b2",
   "metadata": {},
   "outputs": [
    {
     "data": {
      "text/html": [
       "<div>\n",
       "<style scoped>\n",
       "    .dataframe tbody tr th:only-of-type {\n",
       "        vertical-align: middle;\n",
       "    }\n",
       "\n",
       "    .dataframe tbody tr th {\n",
       "        vertical-align: top;\n",
       "    }\n",
       "\n",
       "    .dataframe thead th {\n",
       "        text-align: right;\n",
       "    }\n",
       "</style>\n",
       "<table border=\"1\" class=\"dataframe\">\n",
       "  <thead>\n",
       "    <tr style=\"text-align: right;\">\n",
       "      <th></th>\n",
       "      <th>absolute frequency</th>\n",
       "      <th>relative frequency</th>\n",
       "    </tr>\n",
       "    <tr>\n",
       "      <th>category</th>\n",
       "      <th></th>\n",
       "      <th></th>\n",
       "    </tr>\n",
       "  </thead>\n",
       "  <tbody>\n",
       "    <tr>\n",
       "      <th>Sports &amp; Outdoors</th>\n",
       "      <td>836265</td>\n",
       "      <td>0.342219</td>\n",
       "    </tr>\n",
       "    <tr>\n",
       "      <th>Beauty</th>\n",
       "      <td>19312</td>\n",
       "      <td>0.007903</td>\n",
       "    </tr>\n",
       "    <tr>\n",
       "      <th>Handmade Clothing, Shoes &amp; Accessories</th>\n",
       "      <td>19229</td>\n",
       "      <td>0.007869</td>\n",
       "    </tr>\n",
       "    <tr>\n",
       "      <th>Bath &amp; Body</th>\n",
       "      <td>19092</td>\n",
       "      <td>0.007813</td>\n",
       "    </tr>\n",
       "    <tr>\n",
       "      <th>Birthday Gifts</th>\n",
       "      <td>18978</td>\n",
       "      <td>0.007766</td>\n",
       "    </tr>\n",
       "  </tbody>\n",
       "</table>\n",
       "</div>"
      ],
      "text/plain": [
       "                                        absolute frequency  relative frequency\n",
       "category                                                                      \n",
       "Sports & Outdoors                                   836265            0.342219\n",
       "Beauty                                               19312            0.007903\n",
       "Handmade Clothing, Shoes & Accessories               19229            0.007869\n",
       "Bath & Body                                          19092            0.007813\n",
       "Birthday Gifts                                       18978            0.007766"
      ]
     },
     "execution_count": 10,
     "metadata": {},
     "output_type": "execute_result"
    }
   ],
   "source": [
    "#Top 5 categories\n",
    "top_5 = final_table[:5]\n",
    "top_5.columns = ['absolute frequency', 'relative frequency']\n",
    "top_5"
   ]
  },
  {
   "cell_type": "code",
   "execution_count": 11,
   "id": "069c1fde-4948-4e76-beb9-b0311db362cd",
   "metadata": {},
   "outputs": [
    {
     "data": {
      "text/html": [
       "<div>\n",
       "<style scoped>\n",
       "    .dataframe tbody tr th:only-of-type {\n",
       "        vertical-align: middle;\n",
       "    }\n",
       "\n",
       "    .dataframe tbody tr th {\n",
       "        vertical-align: top;\n",
       "    }\n",
       "\n",
       "    .dataframe thead th {\n",
       "        text-align: right;\n",
       "    }\n",
       "</style>\n",
       "<table border=\"1\" class=\"dataframe\">\n",
       "  <thead>\n",
       "    <tr style=\"text-align: right;\">\n",
       "      <th></th>\n",
       "      <th>absolute frequency</th>\n",
       "      <th>relative frequency</th>\n",
       "    </tr>\n",
       "    <tr>\n",
       "      <th>category</th>\n",
       "      <th></th>\n",
       "      <th></th>\n",
       "    </tr>\n",
       "  </thead>\n",
       "  <tbody>\n",
       "    <tr>\n",
       "      <th>Sports &amp; Outdoors</th>\n",
       "      <td>836265</td>\n",
       "      <td>0.342219</td>\n",
       "    </tr>\n",
       "    <tr>\n",
       "      <th>Beauty</th>\n",
       "      <td>19312</td>\n",
       "      <td>0.007903</td>\n",
       "    </tr>\n",
       "    <tr>\n",
       "      <th>Handmade Clothing, Shoes &amp; Accessories</th>\n",
       "      <td>19229</td>\n",
       "      <td>0.007869</td>\n",
       "    </tr>\n",
       "  </tbody>\n",
       "</table>\n",
       "</div>"
      ],
      "text/plain": [
       "                                        absolute frequency  relative frequency\n",
       "category                                                                      \n",
       "Sports & Outdoors                                   836265            0.342219\n",
       "Beauty                                               19312            0.007903\n",
       "Handmade Clothing, Shoes & Accessories               19229            0.007869"
      ]
     },
     "execution_count": 11,
     "metadata": {},
     "output_type": "execute_result"
    }
   ],
   "source": [
    "top_3 = top_5[:3]\n",
    "top_3"
   ]
  },
  {
   "cell_type": "code",
   "execution_count": 12,
   "id": "87650688-65f4-4a9e-b083-9e151fdb84f3",
   "metadata": {},
   "outputs": [
    {
     "name": "stderr",
     "output_type": "stream",
     "text": [
      "C:\\Users\\HP\\AppData\\Local\\Temp\\ipykernel_10008\\3298981443.py:3: FutureWarning: \n",
      "\n",
      "Passing `palette` without assigning `hue` is deprecated and will be removed in v0.14.0. Assign the `x` variable to `hue` and set `legend=False` for the same effect.\n",
      "\n",
      "  sns.barplot(data=top_5,\n"
     ]
    },
    {
     "data": {
      "image/png": "[encoded data removed]",
      "text/plain": [
       "<Figure size 1400x600 with 1 Axes>"
      ]
     },
     "metadata": {},
     "output_type": "display_data"
    }
   ],
   "source": [
    "plt.figure(figsize=(14, 6)) \n",
    "\n",
    "sns.barplot(data=top_5,\n",
    "            x=\"category\",\n",
    "            y=\"absolute frequency\",\n",
    "            palette='viridis')\n",
    "plt.xticks(rotation=45) #this command will rotate the labels so that they become readable\n",
    "\n",
    "plt.show()"
   ]
  },
  {
   "cell_type": "code",
   "execution_count": 13,
   "id": "be5e4c3e-091d-46ce-af66-2f52cc774c69",
   "metadata": {},
   "outputs": [
    {
     "data": {
      "image/png": "[encoded data removed]",
      "text/plain": [
       "<Figure size 800x700 with 1 Axes>"
      ]
     },
     "metadata": {},
     "output_type": "display_data"
    }
   ],
   "source": [
    "plt.figure(figsize=(8, 7))\n",
    "top_3[\"relative frequency\"].plot.pie(autopct='%1.2f%%' ,startangle=45, colors=sns.color_palette('Set2'))\n",
    "plt.show()"
   ]
  },
  {
   "cell_type": "markdown",
   "id": "6631d2a4-f928-4704-a62b-e1948d576f53",
   "metadata": {},
   "source": [
    "###### Sports & Outdoors category clearly stands out from the rest."
   ]
  },
  {
   "cell_type": "markdown",
   "id": "f5544b86-94b0-43c9-891e-c382ea28e089",
   "metadata": {},
   "source": [
    "### Part 2: Delving into Product Pricing"
   ]
  },
  {
   "cell_type": "code",
   "execution_count": 58,
   "id": "82ca12be-b278-4ca8-a3a0-e87d22d08f45",
   "metadata": {},
   "outputs": [
    {
     "data": {
      "text/plain": [
       "89.24"
      ]
     },
     "execution_count": 58,
     "metadata": {},
     "output_type": "execute_result"
    }
   ],
   "source": [
    "average_price = round(df.price.mean(), 2)\n",
    "average_price"
   ]
  },
  {
   "cell_type": "code",
   "execution_count": 46,
   "id": "dcc6fc25-10bf-45f9-b24e-08642ce2161b",
   "metadata": {},
   "outputs": [
    {
     "data": {
      "text/plain": [
       "19.09"
      ]
     },
     "execution_count": 46,
     "metadata": {},
     "output_type": "execute_result"
    }
   ],
   "source": [
    "median_price = df.price.median()\n",
    "median_price"
   ]
  },
  {
   "cell_type": "code",
   "execution_count": 50,
   "id": "564e544b-c791-4130-ae8b-e8c89f823813",
   "metadata": {},
   "outputs": [
    {
     "data": {
      "text/plain": [
       "0    9.99\n",
       "Name: price, dtype: float64"
      ]
     },
     "execution_count": 50,
     "metadata": {},
     "output_type": "execute_result"
    }
   ],
   "source": [
    "mode_price = df.price.mode()\n",
    "mode_price"
   ]
  },
  {
   "cell_type": "markdown",
   "id": "e58366f1-832c-4046-82d8-b5051817b74d",
   "metadata": {},
   "source": [
    "###### The average price for the listed products equals to 89.24 £, whereas the most common price (mode) is 9.99 £. \n",
    "###### From this we may infer that even though the most frequent price is below 10 £, the predominance of several higher price products push the average almost to 90 £, 9 times higher."
   ]
  },
  {
   "cell_type": "code",
   "execution_count": 68,
   "id": "24e41ef3-6378-4da4-8457-c133e178599a",
   "metadata": {},
   "outputs": [
    {
     "data": {
      "text/plain": [
       "345.61"
      ]
     },
     "execution_count": 68,
     "metadata": {},
     "output_type": "execute_result"
    }
   ],
   "source": [
    "price_std = round(df.price.std(), 2)\n",
    "price_std"
   ]
  },
  {
   "cell_type": "code",
   "execution_count": 66,
   "id": "eb36c7eb-901b-4056-a0fb-ee2fd751377d",
   "metadata": {},
   "outputs": [
    {
     "data": {
      "text/plain": [
       "119445.49"
      ]
     },
     "execution_count": 66,
     "metadata": {},
     "output_type": "execute_result"
    }
   ],
   "source": [
    "price_var = round(df.price.var(), 2)\n",
    "price_var"
   ]
  },
  {
   "cell_type": "code",
   "execution_count": 96,
   "id": "7bfea153-8ff2-40a5-8bd4-8020394615a8",
   "metadata": {},
   "outputs": [
    {
     "data": {
      "text/plain": [
       "100000.0"
      ]
     },
     "execution_count": 96,
     "metadata": {},
     "output_type": "execute_result"
    }
   ],
   "source": [
    "price_min = df.price.min()\n",
    "price_max = df.price.max()\n",
    "price_range = price_max - price_min\n",
    "price_range"
   ]
  },
  {
   "cell_type": "code",
   "execution_count": 88,
   "id": "3c5a7a93-5b4d-415b-bc18-f75363949522",
   "metadata": {},
   "outputs": [
    {
     "data": {
      "text/plain": [
       "100000.0"
      ]
     },
     "execution_count": 88,
     "metadata": {},
     "output_type": "execute_result"
    }
   ],
   "source": [
    "price_max"
   ]
  },
  {
   "cell_type": "code",
   "execution_count": 246,
   "id": "e538857f-1cbe-4c89-a3e1-0092d93a0143",
   "metadata": {},
   "outputs": [
    {
     "data": {
      "text/plain": [
       "36.0"
      ]
     },
     "execution_count": 246,
     "metadata": {},
     "output_type": "execute_result"
    }
   ],
   "source": [
    "price_Q1 = df.price.quantile(0.25)\n",
    "price_Q3 = df.price.quantile(0.75)\n",
    "IQR_price = price_Q3 - price_Q1\n",
    "IQR_price"
   ]
  },
  {
   "cell_type": "markdown",
   "id": "64a6703a-02b9-4e94-9749-892ee95e8912",
   "metadata": {},
   "source": [
    "###### Given the average price of 89.24 £, from a standard deviation equal to 345.61 we may infer that price values are widely spread out around the mean. \n",
    "###### However, given the IQR we can assume that this measure of dispersion is being highly affected by the highest price values in the top percentiles."
   ]
  },
  {
   "cell_type": "code",
   "execution_count": 196,
   "id": "9c05bdfc-1c21-4b25-b5fd-d6ad80221d08",
   "metadata": {},
   "outputs": [
    {
     "data": {
      "image/png": "[encoded data removed]",
      "text/plain": [
       "<Figure size 640x480 with 1 Axes>"
      ]
     },
     "metadata": {},
     "output_type": "display_data"
    }
   ],
   "source": [
    "sns.histplot(df.price, bins=5000)\n",
    "plt.xscale('log') #given the wide range of prices (from 0 to 100000 £) the logarithmic scale will give us an opportunity to better vizualize the price distribution in th lowest value region \n",
    "plt.show()"
   ]
  },
  {
   "cell_type": "code",
   "execution_count": 174,
   "id": "b15f8a0e-44d0-4e28-8bea-43ec4493b1c4",
   "metadata": {},
   "outputs": [
    {
     "data": {
      "image/png": "[encoded data removed]",
      "text/plain": [
       "<Figure size 640x480 with 1 Axes>"
      ]
     },
     "metadata": {},
     "output_type": "display_data"
    }
   ],
   "source": [
    "sns.boxplot(data=df.price)\n",
    "plt.yscale('log') # the same scale vizualization opportunity as before \n",
    "plt.show()"
   ]
  },
  {
   "cell_type": "markdown",
   "id": "338d42f2-bb1d-4cff-9109-6bf65f89f13b",
   "metadata": {},
   "source": [
    "###### From the boxplot we could assume that there is a significant amount of values above 100 £ (until 100 000 £) which could be considered to be outliers. \n",
    "###### This way we would fix our range vizualization difficulties and properly focus in the price values of interest."
   ]
  },
  {
   "cell_type": "markdown",
   "id": "10afa643-ab36-4da9-838a-2efb0026fbce",
   "metadata": {},
   "source": [
    "### Part 3: Unpacking Product Ratings"
   ]
  },
  {
   "cell_type": "code",
   "execution_count": 218,
   "id": "9ca42a37-8837-4f31-8946-4aa7fda70653",
   "metadata": {},
   "outputs": [],
   "source": [
    "df2 = df.copy()"
   ]
  },
  {
   "cell_type": "code",
   "execution_count": 228,
   "id": "4c000cf8-8f0f-4747-9765-40411da02ebf",
   "metadata": {},
   "outputs": [],
   "source": [
    "#Given that a rating equal to 0.0 is meaningless, we will assume only stars rating different from 0.0\n",
    "df2 = df2[df2[\"stars\"]!= 0.0]"
   ]
  },
  {
   "cell_type": "code",
   "execution_count": 230,
   "id": "56d99bd4-cb57-4c1e-8feb-f86daee30284",
   "metadata": {},
   "outputs": [
    {
     "data": {
      "text/plain": [
       "4.32"
      ]
     },
     "execution_count": 230,
     "metadata": {},
     "output_type": "execute_result"
    }
   ],
   "source": [
    "average_rating = round(df2.stars.mean(), 2)\n",
    "average_rating"
   ]
  },
  {
   "cell_type": "code",
   "execution_count": 232,
   "id": "b3e592ff-1643-4198-9f23-2cc13cbf348a",
   "metadata": {},
   "outputs": [
    {
     "data": {
      "text/plain": [
       "4.4"
      ]
     },
     "execution_count": 232,
     "metadata": {},
     "output_type": "execute_result"
    }
   ],
   "source": [
    "median_rating = df2.stars.median()\n",
    "median_rating"
   ]
  },
  {
   "cell_type": "code",
   "execution_count": 234,
   "id": "310ad33d-02b1-4a42-b57f-3e70bbf9ad7a",
   "metadata": {},
   "outputs": [
    {
     "data": {
      "text/plain": [
       "0    4.5\n",
       "Name: stars, dtype: float64"
      ]
     },
     "execution_count": 234,
     "metadata": {},
     "output_type": "execute_result"
    }
   ],
   "source": [
    "mode_rating = df2.stars.mode()\n",
    "mode_rating"
   ]
  },
  {
   "cell_type": "markdown",
   "id": "5efda428-a63e-417c-b961-40e8c0d355b2",
   "metadata": {},
   "source": [
    "###### Given the rating mean (4.32), the most common rating (4.5) and that 50% of the ratings are above 4.4 stars, we may assume that there is a predominance of well rated products (ratings between 4 and 5 stars). "
   ]
  },
  {
   "cell_type": "code",
   "execution_count": 240,
   "id": "2d8d8daa-cd6f-4b27-8437-b2b9df571f02",
   "metadata": {},
   "outputs": [
    {
     "data": {
      "text/plain": [
       "0.56"
      ]
     },
     "execution_count": 240,
     "metadata": {},
     "output_type": "execute_result"
    }
   ],
   "source": [
    "std_rating = round(df2.stars.std(), 2)\n",
    "std_rating"
   ]
  },
  {
   "cell_type": "code",
   "execution_count": 242,
   "id": "3a5db270-37e1-4f37-8855-b106ac13289f",
   "metadata": {},
   "outputs": [
    {
     "data": {
      "text/plain": [
       "0.31"
      ]
     },
     "execution_count": 242,
     "metadata": {},
     "output_type": "execute_result"
    }
   ],
   "source": [
    "var_rating = round(df2.stars.var(), 2)\n",
    "var_rating"
   ]
  },
  {
   "cell_type": "code",
   "execution_count": 252,
   "id": "ceb3b1a2-dd80-4a8b-b57b-86082377466f",
   "metadata": {},
   "outputs": [
    {
     "data": {
      "text/plain": [
       "0.5"
      ]
     },
     "execution_count": 252,
     "metadata": {},
     "output_type": "execute_result"
    }
   ],
   "source": [
    "rating_Q1 = df2.stars.quantile(0.25)\n",
    "rating_Q3 = df2.stars.quantile(0.75)\n",
    "IQR_rating = rating_Q3 - rating_Q1\n",
    "IQR_rating"
   ]
  },
  {
   "cell_type": "markdown",
   "id": "71216858-0486-4a0b-a9e5-ee3a6ae9589f",
   "metadata": {},
   "source": [
    "###### Given the standard deviation of 0.56 and the IQR of 0.5 we can assume that the ratings are highly concentrated around the 4.32 average rating and within the 4 to 5 stars interval."
   ]
  },
  {
   "cell_type": "code",
   "execution_count": 262,
   "id": "09fe18da-ace1-4ee3-8a33-cd5f47e40359",
   "metadata": {},
   "outputs": [
    {
     "data": {
      "text/plain": [
       "-2.38"
      ]
     },
     "execution_count": 262,
     "metadata": {},
     "output_type": "execute_result"
    }
   ],
   "source": [
    "df2.stars.skew().round(2)"
   ]
  },
  {
   "cell_type": "code",
   "execution_count": 266,
   "id": "2fb0bd9a-1738-4f04-b89d-5c6e6dc36433",
   "metadata": {},
   "outputs": [
    {
     "data": {
      "text/plain": [
       "9.78"
      ]
     },
     "execution_count": 266,
     "metadata": {},
     "output_type": "execute_result"
    }
   ],
   "source": [
    "df2.stars.kurtosis().round(2)"
   ]
  },
  {
   "cell_type": "markdown",
   "id": "6c406b40-27db-4d97-8e2a-4a08c64f2cb0",
   "metadata": {},
   "source": [
    "###### From the negative skewness value(-2.38) we can assume that the mass of the distribution is concentrated on the right of the figure (high rating values).\n",
    "###### Regarding the positive kurtosis we can assume that it has fatter tails and a sharper peak than the normal distribution."
   ]
  },
  {
   "cell_type": "code",
   "execution_count": 278,
   "id": "e196bdfe-6618-46f1-9c23-e064d259cfc8",
   "metadata": {},
   "outputs": [
    {
     "data": {
      "image/png": "[encoded data removed]",
      "text/plain": [
       "<Figure size 640x480 with 1 Axes>"
      ]
     },
     "metadata": {},
     "output_type": "display_data"
    }
   ],
   "source": [
    "sns.histplot(df2.stars, bins=30)\n",
    "plt.show()"
   ]
  },
  {
   "cell_type": "markdown",
   "id": "0d8dbd29-9caf-4a21-a083-2178ee420e75",
   "metadata": {},
   "source": [
    "###### As presented before, the histogram indicates a higher predominance in the 4 to 5 star rating interval. Keep in mind that we disregarded products with 0.0 rating. "
   ]
  },
  {
   "cell_type": "code",
   "execution_count": null,
   "id": "3dc4a08b-33cb-49d3-a4b0-0b24253706ed",
   "metadata": {},
   "outputs": [],
   "source": []
  }
 ],
 "metadata": {
  "kernelspec": {
   "display_name": "Python 3 (ipykernel)",
   "language": "python",
   "name": "python3"
  },
  "language_info": {
   "codemirror_mode": {
    "name": "ipython",
    "version": 3
   },
   "file_extension": ".py",
   "mimetype": "text/x-python",
   "name": "python",
   "nbconvert_exporter": "python",
   "pygments_lexer": "ipython3",
   "version": "3.12.4"
  }
 },
 "nbformat": 4,
 "nbformat_minor": 5
}
